{
 "cells": [
  {
   "cell_type": "markdown",
   "metadata": {},
   "source": [
    "정규표현식(Regular Expression)\n",
    "\n",
    "# 메타문자란?\n",
    ". ^ $ * + ? { } [ ] \\ | ( )\n",
    "\n",
    "# []\n",
    "[] 사이의 문자들 중 하나와 매치 (or)\n",
    "(-)으로 연결 가능  ([0-9], [a-z])\n",
    "[^ ]으로 시작할 경우 반대 의미 (해당 문자가 아니면 매치)\n",
    "\n",
    "ex) \"[cpt]op\"은 \"cop\", \"pop\", \"top\"과 매치\n",
    "\n",
    "# .(dot)\n",
    "\\n을 제외한 모든 문자와 매치\n",
    "\n",
    "ex) \"ab.\"은 \"abc\", \"ab0\", \"ab$\"... 과 매치\n",
    "\n",
    "# *\n",
    "0회 이상 반복\n",
    "\n",
    "# + \n",
    "1회 이상 반복\n",
    "\n",
    "# ?\n",
    "0회 또는 1회\n",
    "\n",
    "# ^\n",
    "문자열의 시작\n",
    "\n",
    "# $\n",
    "문자열의 끝\n",
    " \n",
    "# \\\n",
    "이스케이프, 메타문자를 일반문자로 인식하게 함"
   ]
  },
  {
   "cell_type": "markdown",
   "metadata": {},
   "source": [
    "# 축약 표현\n",
    "\\d\n",
    "숫자\n",
    "\n",
    "\\D\n",
    "숫자가 아닌 것 (텍스트, 특수문자, white space)\n",
    "\n",
    "\\s\n",
    "white space (space, tap, new line)\n",
    "whitespace 문자와 매치, [ \\t\\n\\r\\f\\v]와 동일한 표현식\n",
    "\n",
    "\\S\n",
    "white space가 아닌 것 (텍스트, 특수문자, 숫자)\n",
    "\n",
    "\\w\n",
    "문자(텍스트&숫자)\n",
    "*특문 제외, 단 underscore(_) 포함\n",
    "[a-zA-Z0-9_]와 동일한 표현식\n",
    "\n",
    "\\W\n",
    "문자(텍스트&숫자)가 아닌 것 (특문, white space)\n",
    "[^a-zA-Z0-9_]와 동일한 표현식"
   ]
  },
  {
   "cell_type": "markdown",
   "metadata": {},
   "source": [
    "# python.strip()\n",
    "문자열의 시작과 끝에서 공백을 제거하고 공백없이 동일한 문자열을 반환하는 것"
   ]
  },
  {
   "cell_type": "markdown",
   "metadata": {},
   "source": [
    "# match 객체의 메서드\n",
    "\n",
    "# group()\n",
    "매치된 문자열을 돌려줌\n",
    "\n",
    "# start()\n",
    "매치된 문자열의 시작위치를 돌려줌\n",
    "\n",
    "# end()\n",
    "매치된 문자열의 끝 위치를 돌려줌\n",
    "\n",
    "# span()\n",
    "매치된 문자열의 시작, 끝 위치를 튜플로 돌려줌 "
   ]
  },
  {
   "cell_type": "markdown",
   "metadata": {},
   "source": [
    "[a-zA-Z] : 알파벳 모두\n",
    "\n",
    "[0-9] : 숫자"
   ]
  },
  {
   "cell_type": "markdown",
   "metadata": {},
   "source": [
    "# 정규식을 이용한 문자열 검색\n",
    "\n",
    "# match()\n",
    "문자열의 처음부터 정규식과 매치되는지 조사\n",
    "- match()는 처음이 일치하지 않으면 none을 반환\n",
    "\n",
    "# search()\n",
    "문자열 전체를 검색하여 정규식과 매치되는지 조사\n",
    "- search()는 처음이 일치하지 않더라도 전체를 수색해봄\n",
    "\n",
    "# findall() --> List로 반환!!\n",
    "정규식과 매치되는 모든 문자열(substring)을 리스트로 돌려준다.\n",
    "\n",
    "# finditer()\n",
    "정규식과 매치되는 모든 문자열(substring)을 반복 가능한 객체로 돌려준다.\n",
    "\n",
    "# sub()\n",
    "패턴 대체하기\n",
    "- re.sub('문자열중에서 내가 바꾸고 싶은 문자', '어떤 문자로 바꿀지', '문자열')"
   ]
  },
  {
   "cell_type": "markdown",
   "metadata": {},
   "source": [
    "# isalnum()\n",
    "\n",
    "문자열이 영어, 한글 혹은 숫자로 되어있으면 참 리턴, 아니면 거짓 리턴"
   ]
  },
  {
   "cell_type": "markdown",
   "metadata": {},
   "source": [
    "정규 표현식 문자열 치환\n",
    "\n",
    "# re.sub（정규 표현식, 대상 문자열 , 치환 문자）\n",
    "# re.sub('찾을 패턴', '찾은 패턴을 변경할 내용', '원본')\n",
    "\n",
    "정규 표현식 - 검색 패턴을 지정\n",
    "대상 문자열 - 검색 대상이 되는 문자열\n",
    "치환 문자 - 변경하고 싶은 문자\n",
    "\n",
    "## re.sub(r'[^0-9-]', '', text)\n",
    "0부터 9까지의 숫자, -가 아닌 문자열을 모두 없애주는 것!"
   ]
  },
  {
   "cell_type": "markdown",
   "metadata": {},
   "source": [
    "표현식\t축약표현\t설명\n",
    "[0-9]\t\\d\t     숫자를 찾아라\n",
    "[^0-9]\t\\D\t     숫자가 아닌것을 찾아라(특수문자,대소문자,스페이스,엔터 등등)\n",
    "[ \\t\\n\\r\\f\\v] \\s\t스페이스, 탭, 엔터 등을 찾아라\n",
    "[^\\t\\n\\r\\f\\v] \\S\t화이트스페이스(스페이스, 탭, 엔터 등)이 아닌 것을 찾아라. 즉 대소문자, 특수문자를 찾아라.\n",
    "[A-Za-z0-9]\t\\w\t    문자,숫자를 찾아라\n",
    "[^A-Za-z0-9] \\W\t문자, 숫자가 아닌 것을 \n",
    "[a-zA-Z] 모든 알파벳 중 1개\n",
    "[가-힣] 모든 한글 중 1개\n",
    "[^가-힣] 모든 한글을 제외한 모든 것\n",
    "text = re.sub('[-=+,#/\\?:^$.@*\\\"※~&%ㆍ!』\\\\‘|\\(\\)\\[\\]\\<\\>`\\'…》]','', readData)  특수문자 제거식"
   ]
  },
  {
   "cell_type": "markdown",
   "metadata": {},
   "source": [
    "# Split() 함수\n",
    "split()은 공백이 1개이건 2개이건 n개이건 상관없이 무조건 1개로 보고 처리\n",
    "split(\" \")은 공백 1개, 1개를 각각의 공백으로 따로따로 처리함\n",
    "\n",
    "ex) \n",
    "string = \"word1 word2   word3   word4     \"\n",
    "\n",
    "print(string.split())\n",
    "> ['word1', 'word2', 'word3', 'word4']\n",
    "\n",
    "print(string.split(\" \"))\n",
    "> ['word1', 'word2', '', 'word3', '', '', 'word4', '', '', '', '']"
   ]
  },
  {
   "cell_type": "markdown",
   "metadata": {},
   "source": [
    "# format(num, ',')\n",
    "\n",
    "숫자 3자리마다 콤마를 넣는다.\n"
   ]
  },
  {
   "cell_type": "markdown",
   "metadata": {},
   "source": []
  }
 ],
 "metadata": {
  "language_info": {
   "name": "python"
  },
  "orig_nbformat": 4
 },
 "nbformat": 4,
 "nbformat_minor": 2
}
