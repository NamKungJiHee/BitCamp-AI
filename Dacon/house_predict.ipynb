{
 "cells": [
  {
   "cell_type": "code",
   "execution_count": 1,
   "metadata": {},
   "outputs": [],
   "source": [
    "# 평가지표 rmse\n",
    "import pandas as pd\n",
    "import numpy as np\n",
    "from sklearn.ensemble import RandomForestRegressor\n",
    "from sklearn.metrics import mean_squared_error\n",
    "from sklearn.model_selection import train_test_split, GridSearchCV, RandomizedSearchCV, KFold\n",
    "from sklearn.experimental import enable_halving_search_cv\n",
    "import matplotlib.pyplot as plt\n",
    "import seaborn as sns\n",
    "from sklearn.preprocessing import MinMaxScaler, StandardScaler, RobustScaler, MaxAbsScaler, PowerTransformer, PolynomialFeatures, QuantileTransformer\n",
    "import warnings\n",
    "from sklearn.preprocessing import LabelEncoder"
   ]
  },
  {
   "cell_type": "code",
   "execution_count": 2,
   "metadata": {},
   "outputs": [],
   "source": [
    "\n",
    "path = \"C:\\\\Users\\\\Judy\\\\Desktop\\\\house_predict\\\\\"\n",
    "train = pd.read_csv(path + 'train.csv')\n",
    "\n",
    "test = pd.read_csv(path + 'test.csv')\n",
    "submit_file = pd.read_csv(path + 'sample_submission.csv')"
   ]
  },
  {
   "cell_type": "code",
   "execution_count": null,
   "metadata": {},
   "outputs": [],
   "source": []
  },
  {
   "cell_type": "code",
   "execution_count": 3,
   "metadata": {},
   "outputs": [
    {
     "name": "stdout",
     "output_type": "stream",
     "text": [
      "<class 'pandas.core.frame.DataFrame'>\n",
      "RangeIndex: 1460 entries, 0 to 1459\n",
      "Data columns (total 81 columns):\n",
      " #   Column         Non-Null Count  Dtype  \n",
      "---  ------         --------------  -----  \n",
      " 0   Id             1460 non-null   int64  \n",
      " 1   MSSubClass     1460 non-null   int64  \n",
      " 2   MSZoning       1460 non-null   object \n",
      " 3   LotFrontage    1201 non-null   float64\n",
      " 4   LotArea        1460 non-null   int64  \n",
      " 5   Street         1460 non-null   object \n",
      " 6   Alley          91 non-null     object \n",
      " 7   LotShape       1460 non-null   object \n",
      " 8   LandContour    1460 non-null   object \n",
      " 9   Utilities      1460 non-null   object \n",
      " 10  LotConfig      1460 non-null   object \n",
      " 11  LandSlope      1460 non-null   object \n",
      " 12  Neighborhood   1460 non-null   object \n",
      " 13  Condition1     1460 non-null   object \n",
      " 14  Condition2     1460 non-null   object \n",
      " 15  BldgType       1460 non-null   object \n",
      " 16  HouseStyle     1460 non-null   object \n",
      " 17  OverallQual    1460 non-null   int64  \n",
      " 18  OverallCond    1460 non-null   int64  \n",
      " 19  YearBuilt      1460 non-null   int64  \n",
      " 20  YearRemodAdd   1460 non-null   int64  \n",
      " 21  RoofStyle      1460 non-null   object \n",
      " 22  RoofMatl       1460 non-null   object \n",
      " 23  Exterior1st    1460 non-null   object \n",
      " 24  Exterior2nd    1460 non-null   object \n",
      " 25  MasVnrType     1452 non-null   object \n",
      " 26  MasVnrArea     1452 non-null   float64\n",
      " 27  ExterQual      1460 non-null   object \n",
      " 28  ExterCond      1460 non-null   object \n",
      " 29  Foundation     1460 non-null   object \n",
      " 30  BsmtQual       1423 non-null   object \n",
      " 31  BsmtCond       1423 non-null   object \n",
      " 32  BsmtExposure   1422 non-null   object \n",
      " 33  BsmtFinType1   1423 non-null   object \n",
      " 34  BsmtFinSF1     1460 non-null   int64  \n",
      " 35  BsmtFinType2   1422 non-null   object \n",
      " 36  BsmtFinSF2     1460 non-null   int64  \n",
      " 37  BsmtUnfSF      1460 non-null   int64  \n",
      " 38  TotalBsmtSF    1460 non-null   int64  \n",
      " 39  Heating        1460 non-null   object \n",
      " 40  HeatingQC      1460 non-null   object \n",
      " 41  CentralAir     1460 non-null   object \n",
      " 42  Electrical     1459 non-null   object \n",
      " 43  1stFlrSF       1460 non-null   int64  \n",
      " 44  2ndFlrSF       1460 non-null   int64  \n",
      " 45  LowQualFinSF   1460 non-null   int64  \n",
      " 46  GrLivArea      1460 non-null   int64  \n",
      " 47  BsmtFullBath   1460 non-null   int64  \n",
      " 48  BsmtHalfBath   1460 non-null   int64  \n",
      " 49  FullBath       1460 non-null   int64  \n",
      " 50  HalfBath       1460 non-null   int64  \n",
      " 51  BedroomAbvGr   1460 non-null   int64  \n",
      " 52  KitchenAbvGr   1460 non-null   int64  \n",
      " 53  KitchenQual    1460 non-null   object \n",
      " 54  TotRmsAbvGrd   1460 non-null   int64  \n",
      " 55  Functional     1460 non-null   object \n",
      " 56  Fireplaces     1460 non-null   int64  \n",
      " 57  FireplaceQu    770 non-null    object \n",
      " 58  GarageType     1379 non-null   object \n",
      " 59  GarageYrBlt    1379 non-null   float64\n",
      " 60  GarageFinish   1379 non-null   object \n",
      " 61  GarageCars     1460 non-null   int64  \n",
      " 62  GarageArea     1460 non-null   int64  \n",
      " 63  GarageQual     1379 non-null   object \n",
      " 64  GarageCond     1379 non-null   object \n",
      " 65  PavedDrive     1460 non-null   object \n",
      " 66  WoodDeckSF     1460 non-null   int64  \n",
      " 67  OpenPorchSF    1460 non-null   int64  \n",
      " 68  EnclosedPorch  1460 non-null   int64  \n",
      " 69  3SsnPorch      1460 non-null   int64  \n",
      " 70  ScreenPorch    1460 non-null   int64  \n",
      " 71  PoolArea       1460 non-null   int64  \n",
      " 72  PoolQC         7 non-null      object \n",
      " 73  Fence          281 non-null    object \n",
      " 74  MiscFeature    54 non-null     object \n",
      " 75  MiscVal        1460 non-null   int64  \n",
      " 76  MoSold         1460 non-null   int64  \n",
      " 77  YrSold         1460 non-null   int64  \n",
      " 78  SaleType       1460 non-null   object \n",
      " 79  SaleCondition  1460 non-null   object \n",
      " 80  SalePrice      1460 non-null   int64  \n",
      "dtypes: float64(3), int64(35), object(43)\n",
      "memory usage: 924.0+ KB\n",
      "None\n",
      "(1460, 81)\n"
     ]
    }
   ],
   "source": [
    "print(train.info())\n",
    "print(train.shape) # (1460, 81)"
   ]
  },
  {
   "cell_type": "code",
   "execution_count": 4,
   "metadata": {},
   "outputs": [
    {
     "name": "stdout",
     "output_type": "stream",
     "text": [
      "<class 'pandas.core.frame.DataFrame'>\n",
      "RangeIndex: 1459 entries, 0 to 1458\n",
      "Data columns (total 80 columns):\n",
      " #   Column         Non-Null Count  Dtype  \n",
      "---  ------         --------------  -----  \n",
      " 0   Id             1459 non-null   int64  \n",
      " 1   MSSubClass     1459 non-null   int64  \n",
      " 2   MSZoning       1455 non-null   object \n",
      " 3   LotFrontage    1232 non-null   float64\n",
      " 4   LotArea        1459 non-null   int64  \n",
      " 5   Street         1459 non-null   object \n",
      " 6   Alley          107 non-null    object \n",
      " 7   LotShape       1459 non-null   object \n",
      " 8   LandContour    1459 non-null   object \n",
      " 9   Utilities      1457 non-null   object \n",
      " 10  LotConfig      1459 non-null   object \n",
      " 11  LandSlope      1459 non-null   object \n",
      " 12  Neighborhood   1459 non-null   object \n",
      " 13  Condition1     1459 non-null   object \n",
      " 14  Condition2     1459 non-null   object \n",
      " 15  BldgType       1459 non-null   object \n",
      " 16  HouseStyle     1459 non-null   object \n",
      " 17  OverallQual    1459 non-null   int64  \n",
      " 18  OverallCond    1459 non-null   int64  \n",
      " 19  YearBuilt      1459 non-null   int64  \n",
      " 20  YearRemodAdd   1459 non-null   int64  \n",
      " 21  RoofStyle      1459 non-null   object \n",
      " 22  RoofMatl       1459 non-null   object \n",
      " 23  Exterior1st    1458 non-null   object \n",
      " 24  Exterior2nd    1458 non-null   object \n",
      " 25  MasVnrType     1443 non-null   object \n",
      " 26  MasVnrArea     1444 non-null   float64\n",
      " 27  ExterQual      1459 non-null   object \n",
      " 28  ExterCond      1459 non-null   object \n",
      " 29  Foundation     1459 non-null   object \n",
      " 30  BsmtQual       1415 non-null   object \n",
      " 31  BsmtCond       1414 non-null   object \n",
      " 32  BsmtExposure   1415 non-null   object \n",
      " 33  BsmtFinType1   1417 non-null   object \n",
      " 34  BsmtFinSF1     1458 non-null   float64\n",
      " 35  BsmtFinType2   1417 non-null   object \n",
      " 36  BsmtFinSF2     1458 non-null   float64\n",
      " 37  BsmtUnfSF      1458 non-null   float64\n",
      " 38  TotalBsmtSF    1458 non-null   float64\n",
      " 39  Heating        1459 non-null   object \n",
      " 40  HeatingQC      1459 non-null   object \n",
      " 41  CentralAir     1459 non-null   object \n",
      " 42  Electrical     1459 non-null   object \n",
      " 43  1stFlrSF       1459 non-null   int64  \n",
      " 44  2ndFlrSF       1459 non-null   int64  \n",
      " 45  LowQualFinSF   1459 non-null   int64  \n",
      " 46  GrLivArea      1459 non-null   int64  \n",
      " 47  BsmtFullBath   1457 non-null   float64\n",
      " 48  BsmtHalfBath   1457 non-null   float64\n",
      " 49  FullBath       1459 non-null   int64  \n",
      " 50  HalfBath       1459 non-null   int64  \n",
      " 51  BedroomAbvGr   1459 non-null   int64  \n",
      " 52  KitchenAbvGr   1459 non-null   int64  \n",
      " 53  KitchenQual    1458 non-null   object \n",
      " 54  TotRmsAbvGrd   1459 non-null   int64  \n",
      " 55  Functional     1457 non-null   object \n",
      " 56  Fireplaces     1459 non-null   int64  \n",
      " 57  FireplaceQu    729 non-null    object \n",
      " 58  GarageType     1383 non-null   object \n",
      " 59  GarageYrBlt    1381 non-null   float64\n",
      " 60  GarageFinish   1381 non-null   object \n",
      " 61  GarageCars     1458 non-null   float64\n",
      " 62  GarageArea     1458 non-null   float64\n",
      " 63  GarageQual     1381 non-null   object \n",
      " 64  GarageCond     1381 non-null   object \n",
      " 65  PavedDrive     1459 non-null   object \n",
      " 66  WoodDeckSF     1459 non-null   int64  \n",
      " 67  OpenPorchSF    1459 non-null   int64  \n",
      " 68  EnclosedPorch  1459 non-null   int64  \n",
      " 69  3SsnPorch      1459 non-null   int64  \n",
      " 70  ScreenPorch    1459 non-null   int64  \n",
      " 71  PoolArea       1459 non-null   int64  \n",
      " 72  PoolQC         3 non-null      object \n",
      " 73  Fence          290 non-null    object \n",
      " 74  MiscFeature    51 non-null     object \n",
      " 75  MiscVal        1459 non-null   int64  \n",
      " 76  MoSold         1459 non-null   int64  \n",
      " 77  YrSold         1459 non-null   int64  \n",
      " 78  SaleType       1458 non-null   object \n",
      " 79  SaleCondition  1459 non-null   object \n",
      "dtypes: float64(11), int64(26), object(43)\n",
      "memory usage: 912.0+ KB\n",
      "None\n",
      "(1459, 80)\n"
     ]
    }
   ],
   "source": [
    "print(test.info())\n",
    "print(test.shape) # (1459, 80)"
   ]
  },
  {
   "cell_type": "code",
   "execution_count": 5,
   "metadata": {},
   "outputs": [
    {
     "data": {
      "text/plain": [
       "Id                 0\n",
       "MSSubClass         0\n",
       "MSZoning           0\n",
       "LotFrontage      259\n",
       "LotArea            0\n",
       "                ... \n",
       "MoSold             0\n",
       "YrSold             0\n",
       "SaleType           0\n",
       "SaleCondition      0\n",
       "SalePrice          0\n",
       "Length: 81, dtype: int64"
      ]
     },
     "execution_count": 5,
     "metadata": {},
     "output_type": "execute_result"
    }
   ],
   "source": [
    "#train.isnull()\n",
    "train.isnull().sum() "
   ]
  },
  {
   "cell_type": "code",
   "execution_count": 6,
   "metadata": {},
   "outputs": [
    {
     "data": {
      "text/plain": [
       "Id                 0\n",
       "MSSubClass         0\n",
       "MSZoning           4\n",
       "LotFrontage      227\n",
       "LotArea            0\n",
       "                ... \n",
       "MiscVal            0\n",
       "MoSold             0\n",
       "YrSold             0\n",
       "SaleType           1\n",
       "SaleCondition      0\n",
       "Length: 80, dtype: int64"
      ]
     },
     "execution_count": 6,
     "metadata": {},
     "output_type": "execute_result"
    }
   ],
   "source": [
    "test.isnull().sum() "
   ]
  },
  {
   "cell_type": "code",
   "execution_count": 7,
   "metadata": {},
   "outputs": [
    {
     "name": "stdout",
     "output_type": "stream",
     "text": [
      "Id                  730.500000\n",
      "MSSubClass           56.897260\n",
      "LotFrontage          70.049958\n",
      "LotArea           10516.828082\n",
      "OverallQual           6.099315\n",
      "OverallCond           5.575342\n",
      "YearBuilt          1971.267808\n",
      "YearRemodAdd       1984.865753\n",
      "MasVnrArea          103.685262\n",
      "BsmtFinSF1          443.639726\n",
      "BsmtFinSF2           46.549315\n",
      "BsmtUnfSF           567.240411\n",
      "TotalBsmtSF        1057.429452\n",
      "1stFlrSF           1162.626712\n",
      "2ndFlrSF            346.992466\n",
      "LowQualFinSF          5.844521\n",
      "GrLivArea          1515.463699\n",
      "BsmtFullBath          0.425342\n",
      "BsmtHalfBath          0.057534\n",
      "FullBath              1.565068\n",
      "HalfBath              0.382877\n",
      "BedroomAbvGr          2.866438\n",
      "KitchenAbvGr          1.046575\n",
      "TotRmsAbvGrd          6.517808\n",
      "Fireplaces            0.613014\n",
      "GarageYrBlt        1978.506164\n",
      "GarageCars            1.767123\n",
      "GarageArea          472.980137\n",
      "WoodDeckSF           94.244521\n",
      "OpenPorchSF          46.660274\n",
      "EnclosedPorch        21.954110\n",
      "3SsnPorch             3.409589\n",
      "ScreenPorch          15.060959\n",
      "PoolArea              2.758904\n",
      "MiscVal              43.489041\n",
      "MoSold                6.321918\n",
      "YrSold             2007.815753\n",
      "SalePrice        180921.195890\n",
      "dtype: float64\n"
     ]
    },
    {
     "name": "stderr",
     "output_type": "stream",
     "text": [
      "C:\\Users\\Judy\\AppData\\Local\\Temp\\ipykernel_16260\\3159416517.py:1: FutureWarning: Dropping of nuisance columns in DataFrame reductions (with 'numeric_only=None') is deprecated; in a future version this will raise TypeError.  Select only valid columns before calling the reduction.\n",
      "  means = train.mean()\n"
     ]
    }
   ],
   "source": [
    "means = train.mean()\n",
    "print(means)"
   ]
  },
  {
   "cell_type": "code",
   "execution_count": 8,
   "metadata": {},
   "outputs": [
    {
     "data": {
      "text/plain": [
       "Id               0\n",
       "MSSubClass       0\n",
       "MSZoning         0\n",
       "LotFrontage      0\n",
       "LotArea          0\n",
       "                ..\n",
       "MoSold           0\n",
       "YrSold           0\n",
       "SaleType         0\n",
       "SaleCondition    0\n",
       "SalePrice        0\n",
       "Length: 81, dtype: int64"
      ]
     },
     "execution_count": 8,
     "metadata": {},
     "output_type": "execute_result"
    }
   ],
   "source": [
    "train_data = train.fillna(means)\n",
    "#print(train_data)\n",
    "train_data.isnull().sum()"
   ]
  },
  {
   "cell_type": "code",
   "execution_count": 9,
   "metadata": {},
   "outputs": [
    {
     "name": "stdout",
     "output_type": "stream",
     "text": [
      "Id               2190.000000\n",
      "MSSubClass         57.378341\n",
      "LotFrontage        68.580357\n",
      "LotArea          9819.161069\n",
      "OverallQual         6.078821\n",
      "OverallCond         5.553804\n",
      "YearBuilt        1971.357779\n",
      "YearRemodAdd     1983.662783\n",
      "MasVnrArea        100.709141\n",
      "BsmtFinSF1        439.203704\n",
      "BsmtFinSF2         52.619342\n",
      "BsmtUnfSF         554.294925\n",
      "TotalBsmtSF      1046.117970\n",
      "1stFlrSF         1156.534613\n",
      "2ndFlrSF          325.967786\n",
      "LowQualFinSF        3.543523\n",
      "GrLivArea        1486.045922\n",
      "BsmtFullBath        0.434454\n",
      "BsmtHalfBath        0.065202\n",
      "FullBath            1.570939\n",
      "HalfBath            0.377656\n",
      "BedroomAbvGr        2.854010\n",
      "KitchenAbvGr        1.042495\n",
      "TotRmsAbvGrd        6.385195\n",
      "Fireplaces          0.581220\n",
      "GarageYrBlt      1977.721217\n",
      "GarageCars          1.766118\n",
      "GarageArea        472.768861\n",
      "WoodDeckSF         93.174777\n",
      "OpenPorchSF        48.313914\n",
      "EnclosedPorch      24.243317\n",
      "3SsnPorch           1.794380\n",
      "ScreenPorch        17.064428\n",
      "PoolArea            1.744345\n",
      "MiscVal            58.167923\n",
      "MoSold              6.104181\n",
      "YrSold           2007.769705\n",
      "dtype: float64\n"
     ]
    },
    {
     "name": "stderr",
     "output_type": "stream",
     "text": [
      "C:\\Users\\Judy\\AppData\\Local\\Temp\\ipykernel_16260\\4050549393.py:1: FutureWarning: Dropping of nuisance columns in DataFrame reductions (with 'numeric_only=None') is deprecated; in a future version this will raise TypeError.  Select only valid columns before calling the reduction.\n",
      "  meanss = test.mean()\n"
     ]
    }
   ],
   "source": [
    "meanss = test.mean()\n",
    "print(meanss)"
   ]
  },
  {
   "cell_type": "code",
   "execution_count": 10,
   "metadata": {},
   "outputs": [
    {
     "data": {
      "text/plain": [
       "Id               0\n",
       "MSSubClass       0\n",
       "MSZoning         4\n",
       "LotFrontage      0\n",
       "LotArea          0\n",
       "                ..\n",
       "MiscVal          0\n",
       "MoSold           0\n",
       "YrSold           0\n",
       "SaleType         1\n",
       "SaleCondition    0\n",
       "Length: 80, dtype: int64"
      ]
     },
     "execution_count": 10,
     "metadata": {},
     "output_type": "execute_result"
    }
   ],
   "source": [
    "test_data = test.fillna(meanss)\n",
    "#print(train_data)\n",
    "test_data.isnull().sum()"
   ]
  },
  {
   "cell_type": "code",
   "execution_count": 11,
   "metadata": {},
   "outputs": [],
   "source": [
    "# # 이상치 제거\n",
    "# def remove_outlier(input_data):\n",
    "#     q1 = input_data.quantile(0.25) # 제 1사분위수\n",
    "#     q3 = input_data.quantile(0.75) # 제 3사분위수\n",
    "#     iqr = q3 - q1 # IQR(Interquartile range) 계산\n",
    "#     minimum = q1 - (iqr * 1.5) # IQR 최솟값\n",
    "#     maximum = q3 + (iqr * 1.5) # IQR 최댓값\n",
    "#     ### IQR 범위 내에 있는 데이터만 산출(IQR 범위 밖의 데이터는 이상치) ###\n",
    "#     df_removed_outlier = input_data[(minimum < input_data) & (input_data < maximum)]\n",
    "#     return df_removed_outlier"
   ]
  },
  {
   "cell_type": "code",
   "execution_count": 12,
   "metadata": {},
   "outputs": [],
   "source": [
    "# train_data = remove_outlier(train_data)\n",
    "# test_data = remove_outlier(test_data)"
   ]
  },
  {
   "cell_type": "code",
   "execution_count": 13,
   "metadata": {},
   "outputs": [],
   "source": [
    "# train_data = train_data.interpolate()\n",
    "# test_data = test_data.interpolate()"
   ]
  },
  {
   "cell_type": "code",
   "execution_count": 14,
   "metadata": {},
   "outputs": [
    {
     "name": "stdout",
     "output_type": "stream",
     "text": [
      "Id               0\n",
      "MSSubClass       0\n",
      "MSZoning         0\n",
      "LotFrontage      0\n",
      "LotArea          0\n",
      "                ..\n",
      "MoSold           0\n",
      "YrSold           0\n",
      "SaleType         0\n",
      "SaleCondition    0\n",
      "SalePrice        0\n",
      "Length: 81, dtype: int64\n",
      "Id               0\n",
      "MSSubClass       0\n",
      "MSZoning         4\n",
      "LotFrontage      0\n",
      "LotArea          0\n",
      "                ..\n",
      "MiscVal          0\n",
      "MoSold           0\n",
      "YrSold           0\n",
      "SaleType         1\n",
      "SaleCondition    0\n",
      "Length: 80, dtype: int64\n"
     ]
    }
   ],
   "source": [
    "#print(train_data.isnull())\n",
    "print(train_data.isnull().sum())\n",
    "print(test_data.isnull().sum())\n"
   ]
  },
  {
   "cell_type": "code",
   "execution_count": 15,
   "metadata": {},
   "outputs": [
    {
     "name": "stdout",
     "output_type": "stream",
     "text": [
      "                     Id  MSSubClass  LotFrontage   LotArea  OverallQual  \\\n",
      "Id             1.000000    0.011156    -0.009601 -0.033226    -0.028365   \n",
      "MSSubClass     0.011156    1.000000    -0.357056 -0.139781     0.032628   \n",
      "LotFrontage   -0.009601   -0.357056     1.000000  0.306795     0.234196   \n",
      "LotArea       -0.033226   -0.139781     0.306795  1.000000     0.105806   \n",
      "OverallQual   -0.028365    0.032628     0.234196  0.105806     1.000000   \n",
      "OverallCond    0.012609   -0.059316    -0.052820 -0.005636    -0.091932   \n",
      "YearBuilt     -0.012713    0.027850     0.117598  0.014228     0.572323   \n",
      "YearRemodAdd  -0.021998    0.040581     0.082746  0.013788     0.550684   \n",
      "MasVnrArea    -0.050199    0.022895     0.179283  0.103960     0.410238   \n",
      "BsmtFinSF1    -0.005024   -0.069836     0.215828  0.214103     0.239666   \n",
      "BsmtFinSF2    -0.005968   -0.065649     0.043340  0.111170    -0.059119   \n",
      "BsmtUnfSF     -0.007940   -0.140759     0.122156 -0.002618     0.308159   \n",
      "TotalBsmtSF   -0.015415   -0.238518     0.363358  0.260833     0.537808   \n",
      "1stFlrSF       0.010496   -0.251758     0.414266  0.299475     0.476224   \n",
      "2ndFlrSF       0.005590    0.307886     0.072483  0.050986     0.295493   \n",
      "LowQualFinSF  -0.044230    0.046474     0.036849  0.004779    -0.030429   \n",
      "GrLivArea      0.008273    0.074853     0.368392  0.263116     0.593007   \n",
      "BsmtFullBath   0.002289    0.003491     0.091481  0.158155     0.111098   \n",
      "BsmtHalfBath  -0.020155   -0.002333    -0.006419  0.048046    -0.040150   \n",
      "FullBath       0.005587    0.131608     0.180424  0.126031     0.550600   \n",
      "HalfBath       0.006784    0.177354     0.048258  0.014259     0.273458   \n",
      "BedroomAbvGr   0.037719   -0.023438     0.237023  0.119690     0.101676   \n",
      "KitchenAbvGr   0.002951    0.281721    -0.005805 -0.017784    -0.183882   \n",
      "TotRmsAbvGrd   0.027239    0.040380     0.320146  0.190015     0.427452   \n",
      "Fireplaces    -0.019772   -0.045569     0.235755  0.271364     0.396765   \n",
      "GarageYrBlt    0.000070    0.080187     0.064324 -0.024812     0.518018   \n",
      "GarageCars     0.016570   -0.040110     0.269729  0.154871     0.600671   \n",
      "GarageArea     0.017634   -0.098672     0.323663  0.180403     0.562022   \n",
      "WoodDeckSF    -0.029643   -0.012579     0.077106  0.171698     0.238923   \n",
      "OpenPorchSF   -0.000477   -0.006100     0.137454  0.084774     0.308819   \n",
      "EnclosedPorch  0.002889   -0.012037     0.009790 -0.018340    -0.113937   \n",
      "3SsnPorch     -0.046635   -0.043825     0.062335  0.020423     0.030371   \n",
      "ScreenPorch    0.001330   -0.026030     0.037684  0.043160     0.064886   \n",
      "PoolArea       0.057044    0.008283     0.180868  0.077672     0.065166   \n",
      "MiscVal       -0.006242   -0.007683     0.001168  0.038068    -0.031406   \n",
      "MoSold         0.021172   -0.013585     0.010158  0.001205     0.070815   \n",
      "YrSold         0.000712   -0.021407     0.006768 -0.014261    -0.027347   \n",
      "SalePrice     -0.021917   -0.084284     0.334901  0.263843     0.790982   \n",
      "\n",
      "               OverallCond  YearBuilt  YearRemodAdd  MasVnrArea  BsmtFinSF1  \\\n",
      "Id                0.012609  -0.012713     -0.021998   -0.050199   -0.005024   \n",
      "MSSubClass       -0.059316   0.027850      0.040581    0.022895   -0.069836   \n",
      "LotFrontage      -0.052820   0.117598      0.082746    0.179283    0.215828   \n",
      "LotArea          -0.005636   0.014228      0.013788    0.103960    0.214103   \n",
      "OverallQual      -0.091932   0.572323      0.550684    0.410238    0.239666   \n",
      "OverallCond       1.000000  -0.375983      0.073741   -0.127788   -0.046231   \n",
      "YearBuilt        -0.375983   1.000000      0.592855    0.314745    0.249503   \n",
      "YearRemodAdd      0.073741   0.592855      1.000000    0.179186    0.128451   \n",
      "MasVnrArea       -0.127788   0.314745      0.179186    1.000000    0.263582   \n",
      "BsmtFinSF1       -0.046231   0.249503      0.128451    0.263582    1.000000   \n",
      "BsmtFinSF2        0.040229  -0.049107     -0.067759   -0.072302   -0.050117   \n",
      "BsmtUnfSF        -0.136841   0.149040      0.181133    0.114184   -0.495251   \n",
      "TotalBsmtSF      -0.171098   0.391452      0.291066    0.362452    0.522396   \n",
      "1stFlrSF         -0.144203   0.281986      0.240379    0.342160    0.445863   \n",
      "2ndFlrSF          0.028942   0.010308      0.140024    0.174019   -0.137079   \n",
      "LowQualFinSF      0.025494  -0.183784     -0.062419   -0.069068   -0.064503   \n",
      "GrLivArea        -0.079686   0.199010      0.287389    0.389893    0.208171   \n",
      "BsmtFullBath     -0.054942   0.187599      0.119470    0.085055    0.649212   \n",
      "BsmtHalfBath      0.117821  -0.038162     -0.012337    0.026669    0.067418   \n",
      "FullBath         -0.194149   0.468271      0.439046    0.275730    0.058543   \n",
      "HalfBath         -0.060769   0.242656      0.183331    0.200802    0.004262   \n",
      "BedroomAbvGr      0.012980  -0.070651     -0.040581    0.102417   -0.107355   \n",
      "KitchenAbvGr     -0.087001  -0.174800     -0.149598   -0.037364   -0.081007   \n",
      "TotRmsAbvGrd     -0.057583   0.095589      0.191740    0.280027    0.044316   \n",
      "Fireplaces       -0.023820   0.147716      0.112581    0.247906    0.260011   \n",
      "GarageYrBlt      -0.306169   0.780555      0.618130    0.249367    0.150338   \n",
      "GarageCars       -0.185758   0.537850      0.420622    0.363778    0.224054   \n",
      "GarageArea       -0.151521   0.478954      0.371600    0.372567    0.296970   \n",
      "WoodDeckSF       -0.003334   0.224880      0.205726    0.159349    0.204306   \n",
      "OpenPorchSF      -0.032589   0.188686      0.226298    0.124965    0.111761   \n",
      "EnclosedPorch     0.070356  -0.387268     -0.193919   -0.109849   -0.102303   \n",
      "3SsnPorch         0.025504   0.031355      0.045286    0.018795    0.026451   \n",
      "ScreenPorch       0.054811  -0.050364     -0.038740    0.061453    0.062021   \n",
      "PoolArea         -0.001985   0.004950      0.005829    0.011723    0.140491   \n",
      "MiscVal           0.068777  -0.034383     -0.010286   -0.029815    0.003571   \n",
      "MoSold           -0.003511   0.012398      0.021490   -0.005940   -0.015727   \n",
      "YrSold            0.043950  -0.013618      0.035743   -0.008184    0.014359   \n",
      "SalePrice        -0.077856   0.522897      0.507101    0.475241    0.386420   \n",
      "\n",
      "               ...  WoodDeckSF  OpenPorchSF  EnclosedPorch  3SsnPorch  \\\n",
      "Id             ...   -0.029643    -0.000477       0.002889  -0.046635   \n",
      "MSSubClass     ...   -0.012579    -0.006100      -0.012037  -0.043825   \n",
      "LotFrontage    ...    0.077106     0.137454       0.009790   0.062335   \n",
      "LotArea        ...    0.171698     0.084774      -0.018340   0.020423   \n",
      "OverallQual    ...    0.238923     0.308819      -0.113937   0.030371   \n",
      "OverallCond    ...   -0.003334    -0.032589       0.070356   0.025504   \n",
      "YearBuilt      ...    0.224880     0.188686      -0.387268   0.031355   \n",
      "YearRemodAdd   ...    0.205726     0.226298      -0.193919   0.045286   \n",
      "MasVnrArea     ...    0.159349     0.124965      -0.109849   0.018795   \n",
      "BsmtFinSF1     ...    0.204306     0.111761      -0.102303   0.026451   \n",
      "BsmtFinSF2     ...    0.067898     0.003093       0.036543  -0.029993   \n",
      "BsmtUnfSF      ...   -0.005316     0.129005      -0.002538   0.020764   \n",
      "TotalBsmtSF    ...    0.232019     0.247264      -0.095478   0.037384   \n",
      "1stFlrSF       ...    0.235459     0.211671      -0.065292   0.056104   \n",
      "2ndFlrSF       ...    0.092165     0.208026       0.061989  -0.024358   \n",
      "LowQualFinSF   ...   -0.025444     0.018251       0.061081  -0.004296   \n",
      "GrLivArea      ...    0.247433     0.330224       0.009113   0.020643   \n",
      "BsmtFullBath   ...    0.175315     0.067341      -0.049911  -0.000106   \n",
      "BsmtHalfBath   ...    0.040161    -0.025324      -0.008555   0.035114   \n",
      "FullBath       ...    0.187703     0.259977      -0.115093   0.035353   \n",
      "HalfBath       ...    0.108080     0.199740      -0.095317  -0.004972   \n",
      "BedroomAbvGr   ...    0.046854     0.093810       0.041570  -0.024478   \n",
      "KitchenAbvGr   ...   -0.090130    -0.070091       0.037312  -0.024600   \n",
      "TotRmsAbvGrd   ...    0.165984     0.234192       0.004151  -0.006683   \n",
      "Fireplaces     ...    0.200019     0.169405      -0.024822   0.011257   \n",
      "GarageYrBlt    ...    0.220623     0.218490      -0.285882   0.023534   \n",
      "GarageCars     ...    0.226342     0.213569      -0.151434   0.035765   \n",
      "GarageArea     ...    0.224666     0.241435      -0.121777   0.035087   \n",
      "WoodDeckSF     ...    1.000000     0.058661      -0.125989  -0.032771   \n",
      "OpenPorchSF    ...    0.058661     1.000000      -0.093079  -0.005842   \n",
      "EnclosedPorch  ...   -0.125989    -0.093079       1.000000  -0.037305   \n",
      "3SsnPorch      ...   -0.032771    -0.005842      -0.037305   1.000000   \n",
      "ScreenPorch    ...   -0.074181     0.074304      -0.082864  -0.031436   \n",
      "PoolArea       ...    0.073378     0.060762       0.054203  -0.007992   \n",
      "MiscVal        ...   -0.009551    -0.018584       0.018361   0.000354   \n",
      "MoSold         ...    0.021011     0.071255      -0.028887   0.029474   \n",
      "YrSold         ...    0.022270    -0.057619      -0.009916   0.018645   \n",
      "SalePrice      ...    0.324413     0.315856      -0.128578   0.044584   \n",
      "\n",
      "               ScreenPorch  PoolArea   MiscVal    MoSold    YrSold  SalePrice  \n",
      "Id                0.001330  0.057044 -0.006242  0.021172  0.000712  -0.021917  \n",
      "MSSubClass       -0.026030  0.008283 -0.007683 -0.013585 -0.021407  -0.084284  \n",
      "LotFrontage       0.037684  0.180868  0.001168  0.010158  0.006768   0.334901  \n",
      "LotArea           0.043160  0.077672  0.038068  0.001205 -0.014261   0.263843  \n",
      "OverallQual       0.064886  0.065166 -0.031406  0.070815 -0.027347   0.790982  \n",
      "OverallCond       0.054811 -0.001985  0.068777 -0.003511  0.043950  -0.077856  \n",
      "YearBuilt        -0.050364  0.004950 -0.034383  0.012398 -0.013618   0.522897  \n",
      "YearRemodAdd     -0.038740  0.005829 -0.010286  0.021490  0.035743   0.507101  \n",
      "MasVnrArea        0.061453  0.011723 -0.029815 -0.005940 -0.008184   0.475241  \n",
      "BsmtFinSF1        0.062021  0.140491  0.003571 -0.015727  0.014359   0.386420  \n",
      "BsmtFinSF2        0.088871  0.041709  0.004940 -0.015211  0.031706  -0.011378  \n",
      "BsmtUnfSF        -0.012579 -0.035092 -0.023837  0.034888 -0.041258   0.214479  \n",
      "TotalBsmtSF       0.084489  0.126053 -0.018479  0.013196 -0.014969   0.613581  \n",
      "1stFlrSF          0.088758  0.131525 -0.021096  0.031372 -0.013604   0.605852  \n",
      "2ndFlrSF          0.040606  0.081487  0.016197  0.035164 -0.028700   0.319334  \n",
      "LowQualFinSF      0.026799  0.062157 -0.003793 -0.022174 -0.028921  -0.025606  \n",
      "GrLivArea         0.101510  0.170205 -0.002416  0.050240 -0.036526   0.708624  \n",
      "BsmtFullBath      0.023148  0.067616 -0.023047 -0.025361  0.067049   0.227122  \n",
      "BsmtHalfBath      0.032121  0.020025 -0.007367  0.032873 -0.046524  -0.016844  \n",
      "FullBath         -0.008106  0.049604 -0.014290  0.055872 -0.019669   0.560664  \n",
      "HalfBath          0.072426  0.022381  0.001290 -0.009050 -0.010269   0.284108  \n",
      "BedroomAbvGr      0.044300  0.070703  0.007767  0.046544 -0.036014   0.168213  \n",
      "KitchenAbvGr     -0.051613 -0.014525  0.062341  0.026589  0.031687  -0.135907  \n",
      "TotRmsAbvGrd      0.059383  0.083757  0.024763  0.036907 -0.034516   0.533723  \n",
      "Fireplaces        0.184530  0.095074  0.001409  0.046357 -0.024096   0.466929  \n",
      "GarageYrBlt      -0.075256 -0.014499 -0.031853  0.005173 -0.000987   0.470177  \n",
      "GarageCars        0.050494  0.020934 -0.043080  0.040522 -0.039117   0.640409  \n",
      "GarageArea        0.051412  0.061047 -0.027400  0.027974 -0.027378   0.623431  \n",
      "WoodDeckSF       -0.074181  0.073378 -0.009551  0.021011  0.022270   0.324413  \n",
      "OpenPorchSF       0.074304  0.060762 -0.018584  0.071255 -0.057619   0.315856  \n",
      "EnclosedPorch    -0.082864  0.054203  0.018361 -0.028887 -0.009916  -0.128578  \n",
      "3SsnPorch        -0.031436 -0.007992  0.000354  0.029474  0.018645   0.044584  \n",
      "ScreenPorch       1.000000  0.051307  0.031946  0.023217  0.010694   0.111447  \n",
      "PoolArea          0.051307  1.000000  0.029669 -0.033737 -0.059689   0.092404  \n",
      "MiscVal           0.031946  0.029669  1.000000 -0.006495  0.004906  -0.021190  \n",
      "MoSold            0.023217 -0.033737 -0.006495  1.000000 -0.145721   0.046432  \n",
      "YrSold            0.010694 -0.059689  0.004906 -0.145721  1.000000  -0.028923  \n",
      "SalePrice         0.111447  0.092404 -0.021190  0.046432 -0.028923   1.000000  \n",
      "\n",
      "[38 rows x 38 columns]\n"
     ]
    }
   ],
   "source": [
    "print(train_data.corr())\n"
   ]
  },
  {
   "cell_type": "code",
   "execution_count": 16,
   "metadata": {},
   "outputs": [],
   "source": [
    "# sns.set(font_scale=1.0)\n",
    "# sns.heatmap(data=train_data.corr(), square=True, annot=True, cbar=True)\n",
    "# plt.show()"
   ]
  },
  {
   "cell_type": "code",
   "execution_count": 17,
   "metadata": {},
   "outputs": [
    {
     "data": {
      "text/plain": [
       "Id                 int64\n",
       "MSSubClass         int64\n",
       "MSZoning           int32\n",
       "LotFrontage      float64\n",
       "LotArea            int64\n",
       "                  ...   \n",
       "MoSold             int64\n",
       "YrSold             int64\n",
       "SaleType           int32\n",
       "SaleCondition      int64\n",
       "SalePrice          int64\n",
       "Length: 81, dtype: object"
      ]
     },
     "execution_count": 17,
     "metadata": {},
     "output_type": "execute_result"
    }
   ],
   "source": [
    "le = LabelEncoder()\n",
    "train_data['MSZoning'] = le.fit_transform(train_data['MSZoning'])\n",
    "train_data['Street'] = le.fit_transform(train_data['Street'])\n",
    "train_data['Alley'] = le.fit_transform(train_data['Alley'])\n",
    "train_data['LotShape'] = le.fit_transform(train_data['LotShape'])\n",
    "train_data['LandContour'] = le.fit_transform(train_data['LandContour'])\n",
    "train_data['Utilities'] = le.fit_transform(train_data['Utilities'])\n",
    "train_data['LotConfig'] = le.fit_transform(train_data['LotConfig'])\n",
    "train_data['LandSlope'] = le.fit_transform(train_data['LandSlope'])\n",
    "train_data['Neighborhood'] = le.fit_transform(train_data['Neighborhood'])\n",
    "train_data['Condition1'] = le.fit_transform(train_data['Condition1'])\n",
    "train_data['Condition2'] = le.fit_transform(train_data['Condition2'])\n",
    "train_data['BldgType'] = le.fit_transform(train_data['BldgType'])\n",
    "train_data['HouseStyle'] = le.fit_transform(train_data['HouseStyle'])\n",
    "train_data['SaleCondition'] = le.fit_transform(train_data['SaleCondition'])\n",
    "train_data['RoofStyle'] = le.fit_transform(train_data['RoofStyle'])\n",
    "train_data['RoofMatl'] = le.fit_transform(train_data['RoofMatl'])\n",
    "train_data['Exterior1st'] = le.fit_transform(train_data['Exterior1st'])\n",
    "train_data['Exterior2nd'] = le.fit_transform(train_data['Exterior2nd'])\n",
    "train_data['MasVnrType'] = le.fit_transform(train_data['MasVnrType'])\n",
    "train_data['ExterQual'] = le.fit_transform(train_data['ExterQual'])\n",
    "train_data['ExterCond'] = le.fit_transform(train_data['ExterCond'])\n",
    "train_data['Foundation'] = le.fit_transform(train_data['Foundation'])\n",
    "train_data['BsmtQual'] = le.fit_transform(train_data['BsmtQual'])\n",
    "train_data['BsmtCond'] = le.fit_transform(train_data['BsmtCond'])\n",
    "train_data['BsmtExposure'] = le.fit_transform(train_data['BsmtExposure'])\n",
    "train_data['BsmtFinType1'] = le.fit_transform(train_data['BsmtFinType1'])\n",
    "train_data['BsmtFinType2'] = le.fit_transform(train_data['BsmtFinType2'])\n",
    "train_data['Heating'] = le.fit_transform(train_data['Heating'])\n",
    "train_data['HeatingQC'] = le.fit_transform(train_data['HeatingQC'])\n",
    "train_data['CentralAir'] = le.fit_transform(train_data['CentralAir'])\n",
    "train_data['Electrical'] = le.fit_transform(train_data['Electrical'])\n",
    "train_data['KitchenQual'] = le.fit_transform(train_data['KitchenQual'])\n",
    "train_data['Functional'] = le.fit_transform(train_data['Functional'])\n",
    "train_data['FireplaceQu'] = le.fit_transform(train_data['FireplaceQu'])\n",
    "train_data['GarageType'] = le.fit_transform(train_data['GarageType'])\n",
    "train_data['GarageFinish'] = le.fit_transform(train_data['GarageFinish'])\n",
    "train_data['GarageQual'] = le.fit_transform(train_data['GarageQual'])\n",
    "train_data['GarageCond'] = le.fit_transform(train_data['GarageCond'])\n",
    "train_data['PavedDrive'] = le.fit_transform(train_data['PavedDrive'])\n",
    "train_data['PoolQC'] = le.fit_transform(train_data['PoolQC'])\n",
    "train_data['Fence'] = le.fit_transform(train_data['Fence'])\n",
    "train_data['MiscFeature'] = le.fit_transform(train_data['MiscFeature'])\n",
    "train_data['MiscVal'] = le.fit_transform(train_data['MiscVal'])\n",
    "train_data['SaleType'] = le.fit_transform(train_data['SaleType'])\n",
    "train_data['SaleCondition'] = le.fit_transform(train_data['SaleCondition'])\n",
    "\n",
    "test_data['MSZoning'] = le.fit_transform(test_data['MSZoning'])\n",
    "test_data['Street'] = le.fit_transform(test_data['Street'])\n",
    "test_data['Alley'] = le.fit_transform(test_data['Alley'])\n",
    "test_data['LotShape'] = le.fit_transform(test_data['LotShape'])\n",
    "test_data['LandContour'] = le.fit_transform(test_data['LandContour'])\n",
    "test_data['Utilities'] = le.fit_transform(test_data['Utilities'])\n",
    "test_data['LotConfig'] = le.fit_transform(test_data['LotConfig'])\n",
    "test_data['LandSlope'] = le.fit_transform(test_data['LandSlope'])\n",
    "test_data['Neighborhood'] = le.fit_transform(test_data['Neighborhood'])\n",
    "test_data['Condition1'] = le.fit_transform(test_data['Condition1'])\n",
    "test_data['Condition2'] = le.fit_transform(test_data['Condition2'])\n",
    "test_data['BldgType'] = le.fit_transform(test_data['BldgType'])\n",
    "test_data['HouseStyle'] = le.fit_transform(test_data['HouseStyle'])\n",
    "test_data['SaleCondition'] = le.fit_transform(test_data['SaleCondition'])\n",
    "test_data['RoofStyle'] = le.fit_transform(test_data['RoofStyle'])\n",
    "test_data['RoofMatl'] = le.fit_transform(test_data['RoofMatl'])\n",
    "test_data['Exterior1st'] = le.fit_transform(test_data['Exterior1st'])\n",
    "test_data['Exterior2nd'] = le.fit_transform(test_data['Exterior2nd'])\n",
    "test_data['MasVnrType'] = le.fit_transform(test_data['MasVnrType'])\n",
    "test_data['ExterQual'] = le.fit_transform(test_data['ExterQual'])\n",
    "test_data['ExterCond'] = le.fit_transform(test_data['ExterCond'])\n",
    "test_data['Foundation'] = le.fit_transform(test_data['Foundation'])\n",
    "test_data['BsmtQual'] = le.fit_transform(test_data['BsmtQual'])\n",
    "test_data['BsmtCond'] = le.fit_transform(test_data['BsmtCond'])\n",
    "test_data['BsmtExposure'] = le.fit_transform(test_data['BsmtExposure'])\n",
    "test_data['BsmtFinType1'] = le.fit_transform(test_data['BsmtFinType1'])\n",
    "test_data['BsmtFinType2'] = le.fit_transform(test_data['BsmtFinType2'])\n",
    "test_data['Heating'] = le.fit_transform(test_data['Heating'])\n",
    "test_data['HeatingQC'] = le.fit_transform(test_data['HeatingQC'])\n",
    "test_data['CentralAir'] = le.fit_transform(test_data['CentralAir'])\n",
    "test_data['Electrical'] = le.fit_transform(test_data['Electrical'])\n",
    "test_data['KitchenQual'] = le.fit_transform(test_data['KitchenQual'])\n",
    "test_data['Functional'] = le.fit_transform(test_data['Functional'])\n",
    "test_data['FireplaceQu'] = le.fit_transform(test_data['FireplaceQu'])\n",
    "test_data['GarageType'] = le.fit_transform(test_data['GarageType'])\n",
    "test_data['GarageFinish'] = le.fit_transform(test_data['GarageFinish'])\n",
    "test_data['GarageQual'] = le.fit_transform(test_data['GarageQual'])\n",
    "test_data['GarageCond'] = le.fit_transform(test_data['GarageCond'])\n",
    "test_data['PavedDrive'] = le.fit_transform(test_data['PavedDrive'])\n",
    "test_data['PoolQC'] = le.fit_transform(test_data['PoolQC'])\n",
    "test_data['Fence'] = le.fit_transform(test_data['Fence'])\n",
    "test_data['MiscFeature'] = le.fit_transform(test_data['MiscFeature'])\n",
    "test_data['MiscVal'] = le.fit_transform(test_data['MiscVal'])\n",
    "test_data['SaleType'] = le.fit_transform(test_data['SaleType'])\n",
    "test_data['SaleCondition'] = le.fit_transform(test_data['SaleCondition'])\n",
    "\n",
    "\n",
    "train_data.dtypes\n",
    "#train_data = train_data.astype('float')\n",
    "#train_data.dtypes"
   ]
  },
  {
   "cell_type": "code",
   "execution_count": 18,
   "metadata": {},
   "outputs": [],
   "source": [
    "#train_data.info()"
   ]
  },
  {
   "cell_type": "code",
   "execution_count": 19,
   "metadata": {},
   "outputs": [],
   "source": [
    "x = train_data.drop(['Id', 'SalePrice', 'MSZoning','KitchenAbvGr'], axis = 1)\n",
    "y = train_data['SalePrice']\n",
    "test = test_data.drop(['Id','MSZoning','KitchenAbvGr'], axis =1)"
   ]
  },
  {
   "cell_type": "code",
   "execution_count": 20,
   "metadata": {},
   "outputs": [
    {
     "name": "stdout",
     "output_type": "stream",
     "text": [
      "(1460, 77) (1460,)\n"
     ]
    }
   ],
   "source": [
    "print(x.shape, y.shape) # (1460, 77) (1460,)\n",
    "\n",
    "#print(np.unique(y)) #회귀"
   ]
  },
  {
   "cell_type": "code",
   "execution_count": 21,
   "metadata": {},
   "outputs": [],
   "source": [
    "x_train, x_test, y_train, y_test = train_test_split(x, y, random_state=66, shuffle=True, train_size = 0.8)"
   ]
  },
  {
   "cell_type": "code",
   "execution_count": 22,
   "metadata": {},
   "outputs": [],
   "source": [
    "scaler = PolynomialFeatures()\n",
    "x_train = scaler.fit_transform(x_train)\n",
    "x_test = scaler.transform(x_test)\n",
    "test = scaler.transform(test)"
   ]
  },
  {
   "cell_type": "code",
   "execution_count": 23,
   "metadata": {},
   "outputs": [],
   "source": [
    "n_splits = 5\n",
    "kfold = KFold(n_splits = n_splits, shuffle = True, random_state = 66)\n",
    "\n",
    "#parameters = [\n",
    " #   {'n_estimators' : [100, 200, 300], 'max_depth' : [6, 8, 10, 12]},\n",
    " #   {'max_depth' : [6, 8, 10, 12],'min_samples_leaf' : [3, 5, 7,10], 'min_samples_leaf' : [3,5,7,10]},\n",
    " #   {'min_samples_leaf' : [3, 5, 7, 10], 'min_samples_split' : [2, 3, 5, 10]},\n",
    " #  {'min_samples_split' : [2, 3, 5, 10], 'max_depth' : [6,8,10,12]}]   \n",
    "\n",
    "parameters = [\n",
    "    {'n_estimators' : [100, 200, 300], 'max_depth' : [6, 8, 10]},\n",
    "    {'max_depth' : [6, 8, 10, 12],'min_samples_leaf' : [3, 5, 7], 'min_samples_leaf' : [3,5,7,10]},\n",
    "    {'min_samples_leaf' : [3, 5, 7, 10], 'min_samples_split' : [2, 3, 5, 10]},\n",
    "    {'min_samples_split' : [2, 3, 5, 10], 'max_depth' : [6,8,10]}]   "
   ]
  },
  {
   "cell_type": "code",
   "execution_count": 24,
   "metadata": {},
   "outputs": [],
   "source": [
    "model = RandomizedSearchCV(RandomForestRegressor(), parameters, cv = kfold, verbose=1, refit=True, n_jobs=-1, n_iter = 20) \n",
    "#model = GridSearchCV(RandomForestRegressor(), parameters, cv = kfold, verbose=1, refit=True, n_jobs=-1) "
   ]
  },
  {
   "cell_type": "code",
   "execution_count": 25,
   "metadata": {},
   "outputs": [
    {
     "name": "stdout",
     "output_type": "stream",
     "text": [
      "Fitting 5 folds for each of 20 candidates, totalling 100 fits\n"
     ]
    }
   ],
   "source": [
    "import time\n",
    "start = time.time()\n",
    "model.fit(x_train, y_train)\n",
    "end = time.time() - start"
   ]
  },
  {
   "cell_type": "code",
   "execution_count": 26,
   "metadata": {},
   "outputs": [
    {
     "ename": "AttributeError",
     "evalue": "'RandomizedSearchCV' object has no attribute 'feature_importances_'",
     "output_type": "error",
     "traceback": [
      "\u001b[1;31m---------------------------------------------------------------------------\u001b[0m",
      "\u001b[1;31mAttributeError\u001b[0m                            Traceback (most recent call last)",
      "\u001b[1;32mc:\\Users\\Judy\\Desktop\\house_predict\\house_predict.ipynb 셀 27\u001b[0m in \u001b[0;36m<cell line: 1>\u001b[1;34m()\u001b[0m\n\u001b[1;32m----> <a href='vscode-notebook-cell:/c%3A/Users/Judy/Desktop/house_predict/house_predict.ipynb#ch0000026?line=0'>1</a>\u001b[0m \u001b[39mprint\u001b[39m(model\u001b[39m.\u001b[39;49mfeature_importances_)\n",
      "\u001b[1;31mAttributeError\u001b[0m: 'RandomizedSearchCV' object has no attribute 'feature_importances_'"
     ]
    }
   ],
   "source": [
    "print(model.feature_importances_)"
   ]
  },
  {
   "cell_type": "code",
   "execution_count": null,
   "metadata": {},
   "outputs": [
    {
     "name": "stdout",
     "output_type": "stream",
     "text": [
      "26142.422864584827\n"
     ]
    }
   ],
   "source": [
    "y_predict = model.predict(x_test)\n",
    "print(mean_squared_error(y_test, y_predict, squared = False)) # round함수.."
   ]
  },
  {
   "cell_type": "code",
   "execution_count": null,
   "metadata": {},
   "outputs": [],
   "source": [
    "# 제출\n",
    "result = model.predict(test)\n",
    "#print(result)\n",
    "submit_file['SalePrice']= result\n",
    "submit_file.to_csv(path + 'sample_submission.csv',index=False)"
   ]
  }
 ],
 "metadata": {
  "kernelspec": {
   "display_name": "Python 3.9.13 64-bit",
   "language": "python",
   "name": "python3"
  },
  "language_info": {
   "codemirror_mode": {
    "name": "ipython",
    "version": 3
   },
   "file_extension": ".py",
   "mimetype": "text/x-python",
   "name": "python",
   "nbconvert_exporter": "python",
   "pygments_lexer": "ipython3",
   "version": "3.9.13"
  },
  "orig_nbformat": 4,
  "vscode": {
   "interpreter": {
    "hash": "76f1649b16dc8d45e93eb9c4e716fa59458417a463a9e999c4dc522af468fedb"
   }
  }
 },
 "nbformat": 4,
 "nbformat_minor": 2
}
