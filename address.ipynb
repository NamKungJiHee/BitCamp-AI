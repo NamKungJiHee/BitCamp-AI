{
  "nbformat": 4,
  "nbformat_minor": 0,
  "metadata": {
    "colab": {
      "name": "Untitled",
      "provenance": [],
      "collapsed_sections": [],
      "authorship_tag": "ABX9TyO1piGbmeaPmkPP1NQAZ2k5",
      "include_colab_link": true
    },
    "kernelspec": {
      "name": "python3",
      "display_name": "Python 3"
    },
    "language_info": {
      "name": "python"
    }
  },
  "cells": [
    {
      "cell_type": "markdown",
      "metadata": {
        "id": "view-in-github",
        "colab_type": "text"
      },
      "source": [
        "<a href=\"https://colab.research.google.com/github/NamKungJiHee/Study/blob/main/address.ipynb\" target=\"_parent\"><img src=\"https://colab.research.google.com/assets/colab-badge.svg\" alt=\"Open In Colab\"/></a>"
      ]
    },
    {
      "cell_type": "code",
      "execution_count": 108,
      "metadata": {
        "id": "uKk6XMqlgN3M"
      },
      "outputs": [],
      "source": [
        "inputOcr = '인천광역시 미추홀구 인하로 100(용현동, 인하대학교)'"
      ]
    },
    {
      "cell_type": "code",
      "source": [
        "def address_parser_kor(kor_address):\n",
        "    address_dict = {}\n",
        "    kor_address = kor_address.strip()\n",
        "    import re\n",
        "\n",
        "    pattern = re.compile(r'\\(.*\\)?')\n",
        "    searching = re.search(pattern, kor_address)\n",
        "    if searching is not None:\n",
        "        searching = searching.group()\n",
        "        main = kor_address.replace(searching, \"\")\n",
        "    else:\n",
        "        main = kor_address\n",
        "\n",
        "    main = main.split(\",\")\n",
        "    if len(main) == 2:\n",
        "        etc = main[1]\n",
        "    main = main[0].strip()\n",
        "    main = main.replace(\" \", \"\")\n",
        "\n",
        "    p = re.compile(r'.{1,6}(도|별시|역시|치시)')\n",
        "    sido_match = re.match(p, main)\n",
        "    if sido_match is not None:\n",
        "        sido = sido_match.group()\n",
        "    else:\n",
        "        sido = \"\"\n",
        "    main = main.replace(sido, \"\")\n",
        "\n",
        "    if main[2] == \"구\" or main[2] == \"군\" or main[2] == \"시\":\n",
        "        gugunsi = main[0:3]\n",
        "    elif main[3] == \"구\" or main[3] == \"군\" or main[3] == \"시\":\n",
        "        gugunsi = main[0:4]\n",
        "    elif main[4] == \"구\" or main[4] == \"군\" or main[4] == \"시\":\n",
        "        gugunsi = main[0:5]\n",
        "    else:\n",
        "        gugunsi = \"\"\n",
        "    main = main.replace(gugunsi, \"\")\n",
        "\n",
        "    p = re.compile(r'(?<=로|길)\\d+-*\\d*$')  # 뒷숫자 찾기 완성\n",
        "    road_num = re.search(p, main)\n",
        "    if road_num is not None:\n",
        "        road_num = road_num.group()\n",
        "    else:\n",
        "        road_num = \"\"\n",
        "    main = main.replace(road_num, \"\")\n",
        "\n",
        "    road = \"\"\n",
        "    if gugunsi[-1] == \"구\" and ((main[-1] == \"길\") or (main[-1] == \"로\")):\n",
        "        road = main\n",
        "        main = main.replace(road, \"\")\n",
        "    else:\n",
        "        p = re.compile(r'.{1,4}(구|읍|면)')\n",
        "        if re.match(p, main) is not None:\n",
        "            gugunsi_extra = re.match(p, main).group()\n",
        "            gugunsi = gugunsi + \" \" + gugunsi_extra\n",
        "            main = main.replace(gugunsi_extra, \"\")\n",
        "            road = main\n",
        "            main = main.replace(road, \"\")\n",
        "        else:\n",
        "            road = main\n",
        "            main = main.replace(road, \"\")\n",
        "\n",
        "    address_dict['sido'] = sido\n",
        "    address_dict['gugunsi'] = gugunsi\n",
        "    address_dict['road'] = road + \" \" + road_num\n",
        "    # address_dict['etc'] = etc.strip() if \"etc\" in locals() else \"\"\n",
        "    address_dict['additional'] = searching if searching is not None else \"\"\n",
        "\n",
        "    # if address_dict['etc'] == \"\" and address_dict['additional'] ==\"\":\n",
        "    result = f\"{address_dict['sido']}${address_dict['gugunsi']}${address_dict['road']}{address_dict['additional']}\"\n",
        "    # else:\n",
        "    #     result = f\"{address_dict['sido']}${address_dict['gugunsi']}${address_dict['road']}{address_dict['additional']}\"\n",
        "\n",
        "    return result\n",
        "\n",
        "field_value=address_parser_kor(inputOcr)"
      ],
      "metadata": {
        "id": "QRpoeSNHgP0u"
      },
      "execution_count": 109,
      "outputs": []
    },
    {
      "cell_type": "code",
      "source": [
        "print(field_value)"
      ],
      "metadata": {
        "id": "xBLqiFaDip-A",
        "colab": {
          "base_uri": "https://localhost:8080/"
        },
        "outputId": "515088e5-6dc0-409b-a28b-8996d4fdba0f"
      },
      "execution_count": 110,
      "outputs": [
        {
          "output_type": "stream",
          "name": "stdout",
          "text": [
            "인천광역시$미추홀구$인하로 100(용현동, 인하대학교)\n"
          ]
        }
      ]
    },
    {
      "cell_type": "code",
      "source": [
        ""
      ],
      "metadata": {
        "id": "gKQjRTYxCokv"
      },
      "execution_count": null,
      "outputs": []
    }
  ]
}